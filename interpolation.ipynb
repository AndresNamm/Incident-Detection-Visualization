{
 "cells": [
  {
   "cell_type": "code",
   "execution_count": 17,
   "metadata": {
    "collapsed": false
   },
   "outputs": [
    {
     "data": {
      "image/png": "[encoded data removed]",
      "text/plain": [
       "<matplotlib.figure.Figure at 0x1db69f36c88>"
      ]
     },
     "metadata": {},
     "output_type": "display_data"
    }
   ],
   "source": [
    "import numpy as np\n",
    "import matplotlib.pyplot as plt \n",
    "\n",
    "\n",
    "\n",
    "t = []\n",
    "k=[]\n",
    "c=[]\n",
    "l=[]\n",
    "\n",
    "for i in range(10):\n",
    "    t.append(i)\n",
    "    k.append(i)\n",
    " \n",
    "for i in range(10):\n",
    "    c.append(i*2)\n",
    "    l.append(i*10)\n",
    "      \n",
    "\n",
    "plt.plot(t,k)\n",
    "plt.plot(c,l)\n",
    "points= [[1,20], [12.5,50]]\n",
    "x=[]\n",
    "y=[]\n",
    "for i in points:\n",
    "    x.append(i[0])\n",
    "    y.append(i[1])\n",
    "    \n",
    "plt.plot(x,y,'ro')\n",
    "x_polated= x[0]+ 0.75*(x[1]-x[0]) \n",
    "y_polated= y[0]+ 0.75*(y[1]-y[0])        \n",
    "\n",
    "plt.plot(x_polated,y_polated,'ro')         \n",
    "plt.show()"
   ]
  },
  {
   "cell_type": "code",
   "execution_count": 73,
   "metadata": {},
   "outputs": [],
   "source": [
    "import matplotlib.pyplot as plt\n",
    "import numpy as np\n",
    "\n",
    "f = open(\"SegmentRecordCounts.txt\")\n",
    "cnts =[]\n",
    "x = []\n",
    "cnt = 0\n",
    "\n",
    "for i in f:\n",
    "    cnt+=1\n",
    "    cnts.append(int(i))\n",
    "    x.append(cnt)\n",
    "    \n",
    "plt.figure()\n",
    "plt.subplot(211)\n",
    "y = np.array(cnts)\n",
    "plt.hist( y,bins=100,range=[0,10000])\n",
    "plt.ylabel('Nr of Segments having x record count');\n",
    "#plt.show()"
   ]
  },
  {
   "cell_type": "code",
   "execution_count": 74,
   "metadata": {
    "collapsed": false
   },
   "outputs": [
    {
     "data": {
      "image/png": "[encoded data removed]",
      "text/plain": [
       "<matplotlib.figure.Figure at 0x21a860e4588>"
      ]
     },
     "metadata": {},
     "output_type": "display_data"
    }
   ],
   "source": [
    "import matplotlib.pyplot as plt\n",
    "import numpy as np\n",
    "\n",
    "f = open(\"SegmentRecordCounts.txt\")\n",
    "cnts =[]\n",
    "x = []\n",
    "cnt = 0\n",
    "\n",
    "for i in f:\n",
    "    cnt+=1\n",
    "    cnts.append(int(i))\n",
    "    x.append(cnt)\n",
    "    \n",
    "plt.subplot(212)\n",
    "y = np.array(cnts)\n",
    "plt.hist( y,bins=1000,range=[0,1000])\n",
    "plt.show()"
   ]
  },
  {
   "cell_type": "code",
   "execution_count": 61,
   "metadata": {},
   "outputs": [],
   "source": [
    "f.close()"
   ]
  },
  {
   "cell_type": "code",
   "execution_count": null,
   "metadata": {},
   "outputs": [],
   "source": [
    ""
   ]
  }
 ],
 "metadata": {
  "kernelspec": {
   "display_name": "Python 2",
   "language": "python",
   "name": "python2"
  },
  "language_info": {
   "codemirror_mode": {
    "name": "ipython",
    "version": 2.0
   },
   "file_extension": ".py",
   "mimetype": "text/x-python",
   "name": "python",
   "nbconvert_exporter": "python",
   "pygments_lexer": "ipython2",
   "version": "2.7.6"
  }
 },
 "nbformat": 4,
 "nbformat_minor": 0
}